{
 "cells": [
  {
   "cell_type": "code",
   "execution_count": 2,
   "id": "38097dd7",
   "metadata": {},
   "outputs": [],
   "source": [
    "from numpy import *"
   ]
  },
  {
   "cell_type": "code",
   "execution_count": 3,
   "id": "479c8a3b",
   "metadata": {},
   "outputs": [],
   "source": [
    "arr1 = arange(10).reshape(2,5)\n",
    "arr2 = arange(10,20).reshape(5,2)"
   ]
  },
  {
   "cell_type": "code",
   "execution_count": 4,
   "id": "e6f0986a",
   "metadata": {},
   "outputs": [
    {
     "data": {
      "text/plain": [
       "array([[ 0.        ,  0.84147098,  0.90929743,  0.14112001, -0.7568025 ],\n",
       "       [-0.95892427, -0.2794155 ,  0.6569866 ,  0.98935825,  0.41211849]])"
      ]
     },
     "execution_count": 4,
     "metadata": {},
     "output_type": "execute_result"
    }
   ],
   "source": [
    "sin(arr1)"
   ]
  },
  {
   "cell_type": "code",
   "execution_count": 5,
   "id": "4e1e73d8",
   "metadata": {},
   "outputs": [
    {
     "data": {
      "text/plain": [
       "array([[-0.83907153,  0.0044257 ],\n",
       "       [ 0.84385396,  0.90744678],\n",
       "       [ 0.13673722, -0.75968791],\n",
       "       [-0.95765948, -0.27516334],\n",
       "       [ 0.66031671,  0.98870462]])"
      ]
     },
     "execution_count": 5,
     "metadata": {},
     "output_type": "execute_result"
    }
   ],
   "source": [
    "cos(arr2)"
   ]
  },
  {
   "cell_type": "code",
   "execution_count": 6,
   "id": "8de8dbfb",
   "metadata": {},
   "outputs": [
    {
     "data": {
      "text/plain": [
       "array([[ 0.        ,  1.55740772, -2.18503986, -0.14254654,  1.15782128],\n",
       "       [-3.38051501, -0.29100619,  0.87144798, -6.79971146, -0.45231566]])"
      ]
     },
     "execution_count": 6,
     "metadata": {},
     "output_type": "execute_result"
    }
   ],
   "source": [
    "tan(arr1)"
   ]
  },
  {
   "cell_type": "code",
   "execution_count": 7,
   "id": "fc0b909c",
   "metadata": {},
   "outputs": [
    {
     "data": {
      "text/plain": [
       "array([[ 6.48360827e-01, -2.25950846e+02],\n",
       "       [-6.35859929e-01,  4.63021133e-01],\n",
       "       [ 7.24460662e+00, -8.55993401e-01],\n",
       "       [ 3.00632242e-01,  3.49391565e+00],\n",
       "       [-1.13731371e+00,  1.51589471e-01]])"
      ]
     },
     "execution_count": 7,
     "metadata": {},
     "output_type": "execute_result"
    }
   ],
   "source": [
    "tan(arr2)"
   ]
  },
  {
   "cell_type": "code",
   "execution_count": 8,
   "id": "3a4098b8",
   "metadata": {},
   "outputs": [
    {
     "data": {
      "text/plain": [
       "array([[-0.83907153,  0.0044257 ],\n",
       "       [ 0.84385396,  0.90744678],\n",
       "       [ 0.13673722, -0.75968791],\n",
       "       [-0.95765948, -0.27516334],\n",
       "       [ 0.66031671,  0.98870462]])"
      ]
     },
     "execution_count": 8,
     "metadata": {},
     "output_type": "execute_result"
    }
   ],
   "source": [
    "cos(arr2)"
   ]
  }
 ],
 "metadata": {
  "kernelspec": {
   "display_name": "Python 3.10.2 64-bit",
   "language": "python",
   "name": "python3"
  },
  "language_info": {
   "codemirror_mode": {
    "name": "ipython",
    "version": 3
   },
   "file_extension": ".py",
   "mimetype": "text/x-python",
   "name": "python",
   "nbconvert_exporter": "python",
   "pygments_lexer": "ipython3",
   "version": "3.10.2"
  },
  "vscode": {
   "interpreter": {
    "hash": "a9cff5a362bc38ef45d817ae74b1af54d6a076e3d773891282bce078b815ba34"
   }
  }
 },
 "nbformat": 4,
 "nbformat_minor": 5
}
